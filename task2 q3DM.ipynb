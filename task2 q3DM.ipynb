{
  "metadata": {
    "language_info": {
      "codemirror_mode": {
        "name": "python",
        "version": 3
      },
      "file_extension": ".py",
      "mimetype": "text/x-python",
      "name": "python",
      "nbconvert_exporter": "python",
      "pygments_lexer": "ipython3",
      "version": "3.8"
    },
    "kernelspec": {
      "name": "python",
      "display_name": "Python (Pyodide)",
      "language": "python"
    }
  },
  "nbformat_minor": 4,
  "nbformat": 4,
  "cells": [
    {
      "cell_type": "code",
      "source": "import pandas as pd \nimport numpy as np ",
      "metadata": {
        "trusted": true
      },
      "execution_count": 1,
      "outputs": []
    },
    {
      "cell_type": "code",
      "source": "data = pd.read_csv(\"food_coded.csv\")",
      "metadata": {
        "trusted": true
      },
      "execution_count": 2,
      "outputs": []
    },
    {
      "cell_type": "code",
      "source": "data.shape",
      "metadata": {
        "trusted": true
      },
      "execution_count": 3,
      "outputs": [
        {
          "execution_count": 3,
          "output_type": "execute_result",
          "data": {
            "text/plain": "(125, 61)"
          },
          "metadata": {}
        }
      ]
    },
    {
      "cell_type": "code",
      "source": "data.info()",
      "metadata": {
        "trusted": true
      },
      "execution_count": 4,
      "outputs": [
        {
          "name": "stdout",
          "text": "<class 'pandas.core.frame.DataFrame'>\nRangeIndex: 125 entries, 0 to 124\nData columns (total 61 columns):\n #   Column                        Non-Null Count  Dtype  \n---  ------                        --------------  -----  \n 0   GPA                           123 non-null    object \n 1   Gender                        125 non-null    int64  \n 2   breakfast                     125 non-null    int64  \n 3   calories_chicken              125 non-null    int64  \n 4   calories_day                  106 non-null    float64\n 5   calories_scone                124 non-null    float64\n 6   coffee                        125 non-null    int64  \n 7   comfort_food                  124 non-null    object \n 8   comfort_food_reasons          124 non-null    object \n 9   comfort_food_reasons_coded    106 non-null    float64\n 10  cook                          122 non-null    float64\n 11  comfort_food_reasons_coded.1  125 non-null    int64  \n 12  cuisine                       108 non-null    float64\n 13  diet_current                  124 non-null    object \n 14  diet_current_coded            125 non-null    int64  \n 15  drink                         123 non-null    float64\n 16  eating_changes                122 non-null    object \n 17  eating_changes_coded          125 non-null    int64  \n 18  eating_changes_coded1         125 non-null    int64  \n 19  eating_out                    125 non-null    int64  \n 20  employment                    116 non-null    float64\n 21  ethnic_food                   125 non-null    int64  \n 22  exercise                      112 non-null    float64\n 23  father_education              124 non-null    float64\n 24  father_profession             122 non-null    object \n 25  fav_cuisine                   123 non-null    object \n 26  fav_cuisine_coded             125 non-null    int64  \n 27  fav_food                      123 non-null    float64\n 28  food_childhood                124 non-null    object \n 29  fries                         125 non-null    int64  \n 30  fruit_day                     125 non-null    int64  \n 31  grade_level                   125 non-null    int64  \n 32  greek_food                    125 non-null    int64  \n 33  healthy_feeling               125 non-null    int64  \n 34  healthy_meal                  124 non-null    object \n 35  ideal_diet                    124 non-null    object \n 36  ideal_diet_coded              125 non-null    int64  \n 37  income                        124 non-null    float64\n 38  indian_food                   125 non-null    int64  \n 39  italian_food                  125 non-null    int64  \n 40  life_rewarding                124 non-null    float64\n 41  marital_status                124 non-null    float64\n 42  meals_dinner_friend           122 non-null    object \n 43  mother_education              122 non-null    float64\n 44  mother_profession             123 non-null    object \n 45  nutritional_check             125 non-null    int64  \n 46  on_off_campus                 124 non-null    float64\n 47  parents_cook                  125 non-null    int64  \n 48  pay_meal_out                  125 non-null    int64  \n 49  persian_food                  124 non-null    float64\n 50  self_perception_weight        124 non-null    float64\n 51  soup                          124 non-null    float64\n 52  sports                        123 non-null    float64\n 53  thai_food                     125 non-null    int64  \n 54  tortilla_calories             124 non-null    float64\n 55  turkey_calories               125 non-null    int64  \n 56  type_sports                   104 non-null    object \n 57  veggies_day                   125 non-null    int64  \n 58  vitamins                      125 non-null    int64  \n 59  waffle_calories               125 non-null    int64  \n 60  weight                        123 non-null    object \ndtypes: float64(20), int64(27), object(14)\nmemory usage: 52.8+ KB\n",
          "output_type": "stream"
        }
      ]
    },
    {
      "cell_type": "code",
      "source": "data.head(5)",
      "metadata": {
        "trusted": true
      },
      "execution_count": 5,
      "outputs": [
        {
          "execution_count": 5,
          "output_type": "execute_result",
          "data": {
            "text/plain": "     GPA  Gender  breakfast  calories_chicken  calories_day  calories_scone  \\\n0    2.4       2          1               430           NaN           315.0   \n1  3.654       1          1               610           3.0           420.0   \n2    3.3       1          1               720           4.0           420.0   \n3    3.2       1          1               430           3.0           420.0   \n4    3.5       1          1               720           2.0           420.0   \n\n   coffee                      comfort_food        comfort_food_reasons  \\\n0       1                              none       we dont have comfort    \n1       2       chocolate, chips, ice cream        Stress, bored, anger   \n2       2   frozen yogurt, pizza, fast food             stress, sadness   \n3       2  Pizza, Mac and cheese, ice cream                     Boredom   \n4       2      Ice cream, chocolate, chips   Stress, boredom, cravings    \n\n   comfort_food_reasons_coded  ...  soup  sports  thai_food tortilla_calories  \\\n0                         9.0  ...   1.0     1.0          1            1165.0   \n1                         1.0  ...   1.0     1.0          2             725.0   \n2                         1.0  ...   1.0     2.0          5            1165.0   \n3                         2.0  ...   1.0     2.0          5             725.0   \n4                         1.0  ...   1.0     1.0          4             940.0   \n\n   turkey_calories  type_sports veggies_day  vitamins  waffle_calories  \\\n0              345   car racing           5         1             1315   \n1              690  Basketball            4         2              900   \n2              500         none           5         1              900   \n3              690          NaN           3         1             1315   \n4              500     Softball           4         2              760   \n\n                     weight  \n0                       187  \n1                       155  \n2  I'm not answering this.   \n3             Not sure, 240  \n4                       190  \n\n[5 rows x 61 columns]",
            "text/html": "<div>\n<style scoped>\n    .dataframe tbody tr th:only-of-type {\n        vertical-align: middle;\n    }\n\n    .dataframe tbody tr th {\n        vertical-align: top;\n    }\n\n    .dataframe thead th {\n        text-align: right;\n    }\n</style>\n<table border=\"1\" class=\"dataframe\">\n  <thead>\n    <tr style=\"text-align: right;\">\n      <th></th>\n      <th>GPA</th>\n      <th>Gender</th>\n      <th>breakfast</th>\n      <th>calories_chicken</th>\n      <th>calories_day</th>\n      <th>calories_scone</th>\n      <th>coffee</th>\n      <th>comfort_food</th>\n      <th>comfort_food_reasons</th>\n      <th>comfort_food_reasons_coded</th>\n      <th>...</th>\n      <th>soup</th>\n      <th>sports</th>\n      <th>thai_food</th>\n      <th>tortilla_calories</th>\n      <th>turkey_calories</th>\n      <th>type_sports</th>\n      <th>veggies_day</th>\n      <th>vitamins</th>\n      <th>waffle_calories</th>\n      <th>weight</th>\n    </tr>\n  </thead>\n  <tbody>\n    <tr>\n      <th>0</th>\n      <td>2.4</td>\n      <td>2</td>\n      <td>1</td>\n      <td>430</td>\n      <td>NaN</td>\n      <td>315.0</td>\n      <td>1</td>\n      <td>none</td>\n      <td>we dont have comfort</td>\n      <td>9.0</td>\n      <td>...</td>\n      <td>1.0</td>\n      <td>1.0</td>\n      <td>1</td>\n      <td>1165.0</td>\n      <td>345</td>\n      <td>car racing</td>\n      <td>5</td>\n      <td>1</td>\n      <td>1315</td>\n      <td>187</td>\n    </tr>\n    <tr>\n      <th>1</th>\n      <td>3.654</td>\n      <td>1</td>\n      <td>1</td>\n      <td>610</td>\n      <td>3.0</td>\n      <td>420.0</td>\n      <td>2</td>\n      <td>chocolate, chips, ice cream</td>\n      <td>Stress, bored, anger</td>\n      <td>1.0</td>\n      <td>...</td>\n      <td>1.0</td>\n      <td>1.0</td>\n      <td>2</td>\n      <td>725.0</td>\n      <td>690</td>\n      <td>Basketball</td>\n      <td>4</td>\n      <td>2</td>\n      <td>900</td>\n      <td>155</td>\n    </tr>\n    <tr>\n      <th>2</th>\n      <td>3.3</td>\n      <td>1</td>\n      <td>1</td>\n      <td>720</td>\n      <td>4.0</td>\n      <td>420.0</td>\n      <td>2</td>\n      <td>frozen yogurt, pizza, fast food</td>\n      <td>stress, sadness</td>\n      <td>1.0</td>\n      <td>...</td>\n      <td>1.0</td>\n      <td>2.0</td>\n      <td>5</td>\n      <td>1165.0</td>\n      <td>500</td>\n      <td>none</td>\n      <td>5</td>\n      <td>1</td>\n      <td>900</td>\n      <td>I'm not answering this.</td>\n    </tr>\n    <tr>\n      <th>3</th>\n      <td>3.2</td>\n      <td>1</td>\n      <td>1</td>\n      <td>430</td>\n      <td>3.0</td>\n      <td>420.0</td>\n      <td>2</td>\n      <td>Pizza, Mac and cheese, ice cream</td>\n      <td>Boredom</td>\n      <td>2.0</td>\n      <td>...</td>\n      <td>1.0</td>\n      <td>2.0</td>\n      <td>5</td>\n      <td>725.0</td>\n      <td>690</td>\n      <td>NaN</td>\n      <td>3</td>\n      <td>1</td>\n      <td>1315</td>\n      <td>Not sure, 240</td>\n    </tr>\n    <tr>\n      <th>4</th>\n      <td>3.5</td>\n      <td>1</td>\n      <td>1</td>\n      <td>720</td>\n      <td>2.0</td>\n      <td>420.0</td>\n      <td>2</td>\n      <td>Ice cream, chocolate, chips</td>\n      <td>Stress, boredom, cravings</td>\n      <td>1.0</td>\n      <td>...</td>\n      <td>1.0</td>\n      <td>1.0</td>\n      <td>4</td>\n      <td>940.0</td>\n      <td>500</td>\n      <td>Softball</td>\n      <td>4</td>\n      <td>2</td>\n      <td>760</td>\n      <td>190</td>\n    </tr>\n  </tbody>\n</table>\n<p>5 rows × 61 columns</p>\n</div>"
          },
          "metadata": {}
        }
      ]
    },
    {
      "cell_type": "code",
      "source": "data.isna().sum()",
      "metadata": {
        "trusted": true
      },
      "execution_count": 6,
      "outputs": [
        {
          "execution_count": 6,
          "output_type": "execute_result",
          "data": {
            "text/plain": "GPA                  2\nGender               0\nbreakfast            0\ncalories_chicken     0\ncalories_day        19\n                    ..\ntype_sports         21\nveggies_day          0\nvitamins             0\nwaffle_calories      0\nweight               2\nLength: 61, dtype: int64"
          },
          "metadata": {}
        }
      ]
    },
    {
      "cell_type": "code",
      "source": "data['GPA'].unique()",
      "metadata": {
        "trusted": true
      },
      "execution_count": 7,
      "outputs": [
        {
          "execution_count": 7,
          "output_type": "execute_result",
          "data": {
            "text/plain": "array(['2.4', '3.654', '3.3', '3.2', '3.5', '2.25', '3.8', '3.904', '3.4',\n       '3.6', '3.1', nan, '4', '2.2', '3.87', '3.7', '3.9', '2.8', '3',\n       '3.65', '3.89', '2.9', '3.605', '3.83', '3.292', '3.35',\n       'Personal ', '2.6', '3.67', '3.73', '3.79 bitch', '2.71', '3.68',\n       '3.75', '3.92', 'Unknown', '3.77', '3.63', '3.882'], dtype=object)"
          },
          "metadata": {}
        }
      ]
    },
    {
      "cell_type": "code",
      "source": "GPA_mode = data.GPA.mode()[0]\nprint(GPA_mode)",
      "metadata": {
        "trusted": true
      },
      "execution_count": 8,
      "outputs": [
        {
          "name": "stdout",
          "text": "3.5\n",
          "output_type": "stream"
        }
      ]
    },
    {
      "cell_type": "code",
      "source": "data.GPA.fillna(GPA_mode, inplace=True)",
      "metadata": {
        "trusted": true
      },
      "execution_count": 9,
      "outputs": []
    },
    {
      "cell_type": "code",
      "source": "data['GPA'] = data['GPA'].str.replace(\"Personal \",\"3.5\")",
      "metadata": {
        "trusted": true
      },
      "execution_count": 10,
      "outputs": []
    },
    {
      "cell_type": "code",
      "source": "data['GPA'] = data['GPA'].str.replace(\"Unknown\",\"3.5\")",
      "metadata": {
        "trusted": true
      },
      "execution_count": 11,
      "outputs": []
    },
    {
      "cell_type": "code",
      "source": "data['GPA'] = data['GPA'].str.replace(\"bitch\",\"\")",
      "metadata": {
        "trusted": true
      },
      "execution_count": 12,
      "outputs": []
    },
    {
      "cell_type": "code",
      "source": "data['GPA'].unique()",
      "metadata": {
        "trusted": true
      },
      "execution_count": 13,
      "outputs": [
        {
          "execution_count": 13,
          "output_type": "execute_result",
          "data": {
            "text/plain": "array(['2.4', '3.654', '3.3', '3.2', '3.5', '2.25', '3.8', '3.904', '3.4',\n       '3.6', '3.1', '4', '2.2', '3.87', '3.7', '3.9', '2.8', '3', '3.65',\n       '3.89', '2.9', '3.605', '3.83', '3.292', '3.35', '2.6', '3.67',\n       '3.73', '3.79 ', '2.71', '3.68', '3.75', '3.92', '3.77', '3.63',\n       '3.882'], dtype=object)"
          },
          "metadata": {}
        }
      ]
    },
    {
      "cell_type": "code",
      "source": "data['GPA'] = data['GPA'].astype('float')",
      "metadata": {
        "trusted": true
      },
      "execution_count": 14,
      "outputs": []
    },
    {
      "cell_type": "code",
      "source": "calories_day_mode = data.calories_day.mode()[0]\nprint(calories_day_mode)",
      "metadata": {
        "trusted": true
      },
      "execution_count": 15,
      "outputs": [
        {
          "name": "stdout",
          "text": "3.0\n",
          "output_type": "stream"
        }
      ]
    },
    {
      "cell_type": "code",
      "source": "data.calories_day.fillna(calories_day_mode, inplace=True)",
      "metadata": {
        "trusted": true
      },
      "execution_count": 16,
      "outputs": []
    },
    {
      "cell_type": "code",
      "source": "data['calories_day'].unique()",
      "metadata": {
        "trusted": true
      },
      "execution_count": 17,
      "outputs": [
        {
          "execution_count": 17,
          "output_type": "execute_result",
          "data": {
            "text/plain": "array([3., 4., 2.])"
          },
          "metadata": {}
        }
      ]
    },
    {
      "cell_type": "code",
      "source": "data.isna().sum()",
      "metadata": {
        "trusted": true
      },
      "execution_count": 18,
      "outputs": [
        {
          "execution_count": 18,
          "output_type": "execute_result",
          "data": {
            "text/plain": "GPA                  0\nGender               0\nbreakfast            0\ncalories_chicken     0\ncalories_day         0\n                    ..\ntype_sports         21\nveggies_day          0\nvitamins             0\nwaffle_calories      0\nweight               2\nLength: 61, dtype: int64"
          },
          "metadata": {}
        }
      ]
    },
    {
      "cell_type": "code",
      "source": "type_sports_mode = data.type_sports.mode()[0]\nprint(type_sports_mode)",
      "metadata": {
        "trusted": true
      },
      "execution_count": 19,
      "outputs": [
        {
          "name": "stdout",
          "text": "none\n",
          "output_type": "stream"
        }
      ]
    },
    {
      "cell_type": "code",
      "source": "data.type_sports.fillna(type_sports_mode, inplace=True)",
      "metadata": {
        "trusted": true
      },
      "execution_count": 20,
      "outputs": []
    },
    {
      "cell_type": "code",
      "source": "data['type_sports'].unique()",
      "metadata": {
        "trusted": true
      },
      "execution_count": 21,
      "outputs": [
        {
          "execution_count": 21,
          "output_type": "execute_result",
          "data": {
            "text/plain": "array(['car racing', 'Basketball ', 'none', 'Softball', 'None.', 'soccer',\n       'field hockey', 'Running', 'Soccer and basketball ',\n       'intramural volleyball', 'Hockey', 'hockey', 'dancing ',\n       'basketball', 'Soccer', 'Tennis', 'tennis soccer gym',\n       'Gaelic Football', 'Ice hockey', 'Lacrosse ', 'snowboarding',\n       'none organized', 'softball', 'Lacrosse', 'Softball ', 'Dancing',\n       'wrestling ', 'no particular engagement ', 'Volleyball', 'soccer ',\n       'wrestling & rowing', 'Wrestling', 'Skiing', 'skiing ',\n       'Water polo and running ', 'Ice Hockey', 'rowing ', 'None',\n       'tennis  ', 'Recreational Basketball, Equestrian Team',\n       'Rec Volleyball', 'baseball', 'I danced in high school',\n       'horse back riding', 'competitive skiing',\n       'Rowing, Running, and Cycling', 'softball and basketball',\n       'wrestling', 'Marching Band', 'Collegiate Water Polo',\n       'None right now', 'volleyball, lacrosse', 'none ', 'Fotball',\n       'crew', 'Football, Basketball, Volleyball, Golf',\n       'hockey, soccer, golf', 'Running ', 'Volleyball, Track',\n       'When I can, rarely though play pool, darts, and basketball.',\n       'None at the moment', 'volleyball', 'I used to play softball ',\n       ' None', 'Tennis, Basketball', \"No, I don't play sport.\",\n       'basketball '], dtype=object)"
          },
          "metadata": {}
        }
      ]
    },
    {
      "cell_type": "code",
      "source": "data['type_sports'] = data['type_sports'].replace(\"No, I don't play sport.\",\"none\")",
      "metadata": {
        "trusted": true
      },
      "execution_count": 22,
      "outputs": []
    },
    {
      "cell_type": "code",
      "source": "data['type_sports'] = data['type_sports'].str.replace(\"None\",\"none\")",
      "metadata": {
        "trusted": true
      },
      "execution_count": 23,
      "outputs": []
    },
    {
      "cell_type": "code",
      "source": "weight_mode = data.weight.mode()[0]\nprint(weight_mode)",
      "metadata": {
        "trusted": true
      },
      "execution_count": 24,
      "outputs": [
        {
          "name": "stdout",
          "text": "135\n",
          "output_type": "stream"
        }
      ]
    },
    {
      "cell_type": "code",
      "source": "data.weight.fillna(weight_mode, inplace=True)",
      "metadata": {
        "trusted": true
      },
      "execution_count": 25,
      "outputs": []
    },
    {
      "cell_type": "code",
      "source": "data['weight'].unique()",
      "metadata": {
        "trusted": true
      },
      "execution_count": 26,
      "outputs": [
        {
          "execution_count": 26,
          "output_type": "execute_result",
          "data": {
            "text/plain": "array(['187', '155', \"I'm not answering this. \", 'Not sure, 240', '190',\n       '180', '137', '125', '116', '110', '264', '123', '185', '145',\n       '170', '135', '165', '175', '195', '105', '160', '167', '115',\n       '205', '128', '150', '140', '120', '100', '113', '168', '169',\n       '200', '265', '192', '118', '210', '112', '144 lbs', '130', '127',\n       '129', '260', '184', '230', '138', '156'], dtype=object)"
          },
          "metadata": {}
        }
      ]
    },
    {
      "cell_type": "code",
      "source": "data['weight'] = data['weight'].replace(\"I'm not answering this. \",\"135\")",
      "metadata": {
        "trusted": true
      },
      "execution_count": 27,
      "outputs": []
    },
    {
      "cell_type": "code",
      "source": "data['weight'] = data['weight'].str.replace(\"Not sure, \",\"\")",
      "metadata": {
        "trusted": true
      },
      "execution_count": 28,
      "outputs": []
    },
    {
      "cell_type": "code",
      "source": "data['weight'].unique()",
      "metadata": {
        "trusted": true
      },
      "execution_count": 29,
      "outputs": [
        {
          "execution_count": 29,
          "output_type": "execute_result",
          "data": {
            "text/plain": "array(['187', '155', '135', '240', '190', '180', '137', '125', '116',\n       '110', '264', '123', '185', '145', '170', '165', '175', '195',\n       '105', '160', '167', '115', '205', '128', '150', '140', '120',\n       '100', '113', '168', '169', '200', '265', '192', '118', '210',\n       '112', '144 lbs', '130', '127', '129', '260', '184', '230', '138',\n       '156'], dtype=object)"
          },
          "metadata": {}
        }
      ]
    },
    {
      "cell_type": "code",
      "source": "data.isna().sum()",
      "metadata": {
        "trusted": true
      },
      "execution_count": 30,
      "outputs": [
        {
          "execution_count": 30,
          "output_type": "execute_result",
          "data": {
            "text/plain": "GPA                 0\nGender              0\nbreakfast           0\ncalories_chicken    0\ncalories_day        0\n                   ..\ntype_sports         0\nveggies_day         0\nvitamins            0\nwaffle_calories     0\nweight              0\nLength: 61, dtype: int64"
          },
          "metadata": {}
        }
      ]
    },
    {
      "cell_type": "code",
      "source": "data.info()",
      "metadata": {
        "trusted": true
      },
      "execution_count": 31,
      "outputs": [
        {
          "name": "stdout",
          "text": "<class 'pandas.core.frame.DataFrame'>\nRangeIndex: 125 entries, 0 to 124\nData columns (total 61 columns):\n #   Column                        Non-Null Count  Dtype  \n---  ------                        --------------  -----  \n 0   GPA                           125 non-null    float64\n 1   Gender                        125 non-null    int64  \n 2   breakfast                     125 non-null    int64  \n 3   calories_chicken              125 non-null    int64  \n 4   calories_day                  125 non-null    float64\n 5   calories_scone                124 non-null    float64\n 6   coffee                        125 non-null    int64  \n 7   comfort_food                  124 non-null    object \n 8   comfort_food_reasons          124 non-null    object \n 9   comfort_food_reasons_coded    106 non-null    float64\n 10  cook                          122 non-null    float64\n 11  comfort_food_reasons_coded.1  125 non-null    int64  \n 12  cuisine                       108 non-null    float64\n 13  diet_current                  124 non-null    object \n 14  diet_current_coded            125 non-null    int64  \n 15  drink                         123 non-null    float64\n 16  eating_changes                122 non-null    object \n 17  eating_changes_coded          125 non-null    int64  \n 18  eating_changes_coded1         125 non-null    int64  \n 19  eating_out                    125 non-null    int64  \n 20  employment                    116 non-null    float64\n 21  ethnic_food                   125 non-null    int64  \n 22  exercise                      112 non-null    float64\n 23  father_education              124 non-null    float64\n 24  father_profession             122 non-null    object \n 25  fav_cuisine                   123 non-null    object \n 26  fav_cuisine_coded             125 non-null    int64  \n 27  fav_food                      123 non-null    float64\n 28  food_childhood                124 non-null    object \n 29  fries                         125 non-null    int64  \n 30  fruit_day                     125 non-null    int64  \n 31  grade_level                   125 non-null    int64  \n 32  greek_food                    125 non-null    int64  \n 33  healthy_feeling               125 non-null    int64  \n 34  healthy_meal                  124 non-null    object \n 35  ideal_diet                    124 non-null    object \n 36  ideal_diet_coded              125 non-null    int64  \n 37  income                        124 non-null    float64\n 38  indian_food                   125 non-null    int64  \n 39  italian_food                  125 non-null    int64  \n 40  life_rewarding                124 non-null    float64\n 41  marital_status                124 non-null    float64\n 42  meals_dinner_friend           122 non-null    object \n 43  mother_education              122 non-null    float64\n 44  mother_profession             123 non-null    object \n 45  nutritional_check             125 non-null    int64  \n 46  on_off_campus                 124 non-null    float64\n 47  parents_cook                  125 non-null    int64  \n 48  pay_meal_out                  125 non-null    int64  \n 49  persian_food                  124 non-null    float64\n 50  self_perception_weight        124 non-null    float64\n 51  soup                          124 non-null    float64\n 52  sports                        123 non-null    float64\n 53  thai_food                     125 non-null    int64  \n 54  tortilla_calories             124 non-null    float64\n 55  turkey_calories               125 non-null    int64  \n 56  type_sports                   125 non-null    object \n 57  veggies_day                   125 non-null    int64  \n 58  vitamins                      125 non-null    int64  \n 59  waffle_calories               125 non-null    int64  \n 60  weight                        125 non-null    object \ndtypes: float64(21), int64(27), object(13)\nmemory usage: 53.3+ KB\n",
          "output_type": "stream"
        }
      ]
    },
    {
      "cell_type": "code",
      "source": "data.fillna(data.mean(), inplace=True)",
      "metadata": {
        "trusted": true
      },
      "execution_count": 32,
      "outputs": [
        {
          "name": "stderr",
          "text": "<ipython-input-32-a20208f658ce>:1: FutureWarning: The default value of numeric_only in DataFrame.mean is deprecated. In a future version, it will default to False. In addition, specifying 'numeric_only=None' is deprecated. Select only valid columns or specify the value of numeric_only to silence this warning.\n  data.fillna(data.mean(), inplace=True)\n",
          "output_type": "stream"
        }
      ]
    },
    {
      "cell_type": "code",
      "source": "data.info()",
      "metadata": {
        "trusted": true
      },
      "execution_count": 33,
      "outputs": [
        {
          "name": "stdout",
          "text": "<class 'pandas.core.frame.DataFrame'>\nRangeIndex: 125 entries, 0 to 124\nData columns (total 61 columns):\n #   Column                        Non-Null Count  Dtype  \n---  ------                        --------------  -----  \n 0   GPA                           125 non-null    float64\n 1   Gender                        125 non-null    int64  \n 2   breakfast                     125 non-null    int64  \n 3   calories_chicken              125 non-null    int64  \n 4   calories_day                  125 non-null    float64\n 5   calories_scone                125 non-null    float64\n 6   coffee                        125 non-null    int64  \n 7   comfort_food                  124 non-null    object \n 8   comfort_food_reasons          124 non-null    object \n 9   comfort_food_reasons_coded    125 non-null    float64\n 10  cook                          125 non-null    float64\n 11  comfort_food_reasons_coded.1  125 non-null    int64  \n 12  cuisine                       125 non-null    float64\n 13  diet_current                  124 non-null    object \n 14  diet_current_coded            125 non-null    int64  \n 15  drink                         125 non-null    float64\n 16  eating_changes                122 non-null    object \n 17  eating_changes_coded          125 non-null    int64  \n 18  eating_changes_coded1         125 non-null    int64  \n 19  eating_out                    125 non-null    int64  \n 20  employment                    125 non-null    float64\n 21  ethnic_food                   125 non-null    int64  \n 22  exercise                      125 non-null    float64\n 23  father_education              125 non-null    float64\n 24  father_profession             122 non-null    object \n 25  fav_cuisine                   123 non-null    object \n 26  fav_cuisine_coded             125 non-null    int64  \n 27  fav_food                      125 non-null    float64\n 28  food_childhood                124 non-null    object \n 29  fries                         125 non-null    int64  \n 30  fruit_day                     125 non-null    int64  \n 31  grade_level                   125 non-null    int64  \n 32  greek_food                    125 non-null    int64  \n 33  healthy_feeling               125 non-null    int64  \n 34  healthy_meal                  124 non-null    object \n 35  ideal_diet                    124 non-null    object \n 36  ideal_diet_coded              125 non-null    int64  \n 37  income                        125 non-null    float64\n 38  indian_food                   125 non-null    int64  \n 39  italian_food                  125 non-null    int64  \n 40  life_rewarding                125 non-null    float64\n 41  marital_status                125 non-null    float64\n 42  meals_dinner_friend           122 non-null    object \n 43  mother_education              125 non-null    float64\n 44  mother_profession             123 non-null    object \n 45  nutritional_check             125 non-null    int64  \n 46  on_off_campus                 125 non-null    float64\n 47  parents_cook                  125 non-null    int64  \n 48  pay_meal_out                  125 non-null    int64  \n 49  persian_food                  125 non-null    float64\n 50  self_perception_weight        125 non-null    float64\n 51  soup                          125 non-null    float64\n 52  sports                        125 non-null    float64\n 53  thai_food                     125 non-null    int64  \n 54  tortilla_calories             125 non-null    float64\n 55  turkey_calories               125 non-null    int64  \n 56  type_sports                   125 non-null    object \n 57  veggies_day                   125 non-null    int64  \n 58  vitamins                      125 non-null    int64  \n 59  waffle_calories               125 non-null    int64  \n 60  weight                        125 non-null    object \ndtypes: float64(21), int64(27), object(13)\nmemory usage: 53.3+ KB\n",
          "output_type": "stream"
        }
      ]
    },
    {
      "cell_type": "code",
      "source": "from sklearn.preprocessing import LabelEncoder\n\nfor col in data.columns:\n if (data[col].dtype=='object'):\n  lb=LabelEncoder()\n  data[col]=lb.fit_transform(data[col])",
      "metadata": {
        "trusted": true
      },
      "execution_count": 34,
      "outputs": []
    },
    {
      "cell_type": "code",
      "source": "data.head(5)",
      "metadata": {
        "trusted": true
      },
      "execution_count": 35,
      "outputs": [
        {
          "execution_count": 35,
          "output_type": "execute_result",
          "data": {
            "text/plain": "     GPA  Gender  breakfast  calories_chicken  calories_day  calories_scone  \\\n0  2.400       2          1               430           3.0           315.0   \n1  3.654       1          1               610           3.0           420.0   \n2  3.300       1          1               720           4.0           420.0   \n3  3.200       1          1               430           3.0           420.0   \n4  3.500       1          1               720           2.0           420.0   \n\n   coffee  comfort_food  comfort_food_reasons  comfort_food_reasons_coded  \\\n0       1           110                   105                         9.0   \n1       2            83                    58                         1.0   \n2       2            98                   101                         1.0   \n3       2            59                     6                         2.0   \n4       2            34                    62                         1.0   \n\n   ...  soup  sports  thai_food  tortilla_calories  turkey_calories  \\\n0  ...   1.0     1.0          1             1165.0              345   \n1  ...   1.0     1.0          2              725.0              690   \n2  ...   1.0     2.0          5             1165.0              500   \n3  ...   1.0     2.0          5              725.0              690   \n4  ...   1.0     1.0          4              940.0              500   \n\n   type_sports  veggies_day  vitamins  waffle_calories  weight  \n0           35            5         1             1315      34  \n1            1            4         2              900      22  \n2           45            5         1              900      15  \n3           45            3         1             1315      42  \n4           23            4         2              760      35  \n\n[5 rows x 61 columns]",
            "text/html": "<div>\n<style scoped>\n    .dataframe tbody tr th:only-of-type {\n        vertical-align: middle;\n    }\n\n    .dataframe tbody tr th {\n        vertical-align: top;\n    }\n\n    .dataframe thead th {\n        text-align: right;\n    }\n</style>\n<table border=\"1\" class=\"dataframe\">\n  <thead>\n    <tr style=\"text-align: right;\">\n      <th></th>\n      <th>GPA</th>\n      <th>Gender</th>\n      <th>breakfast</th>\n      <th>calories_chicken</th>\n      <th>calories_day</th>\n      <th>calories_scone</th>\n      <th>coffee</th>\n      <th>comfort_food</th>\n      <th>comfort_food_reasons</th>\n      <th>comfort_food_reasons_coded</th>\n      <th>...</th>\n      <th>soup</th>\n      <th>sports</th>\n      <th>thai_food</th>\n      <th>tortilla_calories</th>\n      <th>turkey_calories</th>\n      <th>type_sports</th>\n      <th>veggies_day</th>\n      <th>vitamins</th>\n      <th>waffle_calories</th>\n      <th>weight</th>\n    </tr>\n  </thead>\n  <tbody>\n    <tr>\n      <th>0</th>\n      <td>2.400</td>\n      <td>2</td>\n      <td>1</td>\n      <td>430</td>\n      <td>3.0</td>\n      <td>315.0</td>\n      <td>1</td>\n      <td>110</td>\n      <td>105</td>\n      <td>9.0</td>\n      <td>...</td>\n      <td>1.0</td>\n      <td>1.0</td>\n      <td>1</td>\n      <td>1165.0</td>\n      <td>345</td>\n      <td>35</td>\n      <td>5</td>\n      <td>1</td>\n      <td>1315</td>\n      <td>34</td>\n    </tr>\n    <tr>\n      <th>1</th>\n      <td>3.654</td>\n      <td>1</td>\n      <td>1</td>\n      <td>610</td>\n      <td>3.0</td>\n      <td>420.0</td>\n      <td>2</td>\n      <td>83</td>\n      <td>58</td>\n      <td>1.0</td>\n      <td>...</td>\n      <td>1.0</td>\n      <td>1.0</td>\n      <td>2</td>\n      <td>725.0</td>\n      <td>690</td>\n      <td>1</td>\n      <td>4</td>\n      <td>2</td>\n      <td>900</td>\n      <td>22</td>\n    </tr>\n    <tr>\n      <th>2</th>\n      <td>3.300</td>\n      <td>1</td>\n      <td>1</td>\n      <td>720</td>\n      <td>4.0</td>\n      <td>420.0</td>\n      <td>2</td>\n      <td>98</td>\n      <td>101</td>\n      <td>1.0</td>\n      <td>...</td>\n      <td>1.0</td>\n      <td>2.0</td>\n      <td>5</td>\n      <td>1165.0</td>\n      <td>500</td>\n      <td>45</td>\n      <td>5</td>\n      <td>1</td>\n      <td>900</td>\n      <td>15</td>\n    </tr>\n    <tr>\n      <th>3</th>\n      <td>3.200</td>\n      <td>1</td>\n      <td>1</td>\n      <td>430</td>\n      <td>3.0</td>\n      <td>420.0</td>\n      <td>2</td>\n      <td>59</td>\n      <td>6</td>\n      <td>2.0</td>\n      <td>...</td>\n      <td>1.0</td>\n      <td>2.0</td>\n      <td>5</td>\n      <td>725.0</td>\n      <td>690</td>\n      <td>45</td>\n      <td>3</td>\n      <td>1</td>\n      <td>1315</td>\n      <td>42</td>\n    </tr>\n    <tr>\n      <th>4</th>\n      <td>3.500</td>\n      <td>1</td>\n      <td>1</td>\n      <td>720</td>\n      <td>2.0</td>\n      <td>420.0</td>\n      <td>2</td>\n      <td>34</td>\n      <td>62</td>\n      <td>1.0</td>\n      <td>...</td>\n      <td>1.0</td>\n      <td>1.0</td>\n      <td>4</td>\n      <td>940.0</td>\n      <td>500</td>\n      <td>23</td>\n      <td>4</td>\n      <td>2</td>\n      <td>760</td>\n      <td>35</td>\n    </tr>\n  </tbody>\n</table>\n<p>5 rows × 61 columns</p>\n</div>"
          },
          "metadata": {}
        }
      ]
    },
    {
      "cell_type": "markdown",
      "source": "# Regression (Supervised)",
      "metadata": {}
    },
    {
      "cell_type": "code",
      "source": "from sklearn.preprocessing import StandardScaler\nsd=StandardScaler()\ndataset = sd.fit_transform(data)",
      "metadata": {
        "trusted": true
      },
      "execution_count": 36,
      "outputs": []
    },
    {
      "cell_type": "code",
      "source": "dataset_scale=pd.DataFrame(dataset, columns = data.columns)\ndataset_scale['GPA']=data['GPA']\ndataset_scale",
      "metadata": {
        "trusted": true
      },
      "execution_count": 37,
      "outputs": [
        {
          "execution_count": 37,
          "output_type": "execute_result",
          "data": {
            "text/plain": "       GPA    Gender  breakfast  calories_chicken  calories_day  \\\n0    2.400  1.245400  -0.355142         -1.127263     -0.040954   \n1    3.654 -0.802955  -0.355142          0.250061     -0.040954   \n2    3.300 -0.802955  -0.355142          1.091758      1.665461   \n3    3.200 -0.802955  -0.355142         -1.127263     -0.040954   \n4    3.500 -0.802955  -0.355142          1.091758     -1.747369   \n..     ...       ...        ...               ...           ...   \n120  3.500 -0.802955  -0.355142          0.250061      1.665461   \n121  3.000 -0.802955  -0.355142         -2.389809     -1.747369   \n122  3.882 -0.802955  -0.355142          1.091758     -0.040954   \n123  3.000  1.245400  -0.355142          1.091758      1.665461   \n124  3.900 -0.802955  -0.355142         -1.127263     -0.040954   \n\n     calories_scone    coffee  comfort_food  comfort_food_reasons  \\\n0         -0.830800 -1.741338      1.330258              1.636966   \n1         -0.372258  0.574271      0.581988              0.133343   \n2         -0.372258  0.574271      0.997693              1.508998   \n3         -0.372258  0.574271     -0.083141             -1.530241   \n4         -0.372258  0.574271     -0.775984              0.261311   \n..              ...       ...           ...                   ...   \n120       -0.372258  0.574271      1.690536              0.613222   \n121       -0.830800  0.574271     -0.221710             -0.442513   \n122       -0.372258 -1.741338      1.607395              1.125094   \n123       -0.372258 -1.741338     -0.443419              0.997126   \n124       -0.830800  0.574271     -1.053121              1.029118   \n\n     comfort_food_reasons_coded  ...      soup        sports  thai_food  \\\n0                  3.486702e+00  ... -0.529712 -8.064778e-01  -1.632687   \n1                 -9.395305e-01  ... -0.529712 -8.064778e-01  -0.933763   \n2                 -9.395305e-01  ... -0.529712  1.260122e+00   1.163010   \n3                 -3.862514e-01  ... -0.529712  1.260122e+00   1.163010   \n4                 -9.395305e-01  ... -0.529712 -8.064778e-01   0.464086   \n..                          ...  ...       ...           ...        ...   \n120                2.457053e-16  ... -0.529712 -8.064778e-01   1.163010   \n121                2.457053e-16  ... -0.529712  4.588773e-16   0.464086   \n122                2.457053e-16  ... -0.529712  1.260122e+00   1.163010   \n123                2.457053e-16  ...  1.903041  1.260122e+00  -1.632687   \n124                2.457053e-16  ... -0.529712  1.260122e+00  -0.933763   \n\n     tortilla_calories  turkey_calories  type_sports  veggies_day  vitamins  \\\n0             1.084565        -1.384030     0.051786     0.921074 -1.024295   \n1            -1.110311         0.889301    -1.913311    -0.007428  0.976281   \n2             1.084565        -0.362679     0.629756     0.921074 -1.024295   \n3            -1.110311         0.889301     0.629756    -0.935930 -1.024295   \n4            -0.037815        -0.362679    -0.641778    -0.007428  0.976281   \n..                 ...              ...          ...          ...       ...   \n120          -0.037815        -0.362679    -0.641778     0.921074 -1.024295   \n121          -0.037815        -0.362679    -0.006011     0.921074  0.976281   \n122          -1.833622         0.889301     0.629756    -0.007428  0.976281   \n123          -0.037815        -0.362679     0.629756    -0.935930 -1.024295   \n124          -1.110311        -1.384030     0.629756    -0.007428  0.976281   \n\n     waffle_calories    weight  \n0           0.975490  1.069675  \n1          -0.700124 -0.073140  \n2          -0.700124 -0.739782  \n3           0.975490  1.831551  \n4          -1.265391  1.164909  \n..               ...       ...  \n120         0.975490  0.022094  \n121         0.975490  0.783971  \n122         0.975490 -1.406424  \n123         0.975490 -0.739782  \n124        -2.012352 -0.739782  \n\n[125 rows x 61 columns]",
            "text/html": "<div>\n<style scoped>\n    .dataframe tbody tr th:only-of-type {\n        vertical-align: middle;\n    }\n\n    .dataframe tbody tr th {\n        vertical-align: top;\n    }\n\n    .dataframe thead th {\n        text-align: right;\n    }\n</style>\n<table border=\"1\" class=\"dataframe\">\n  <thead>\n    <tr style=\"text-align: right;\">\n      <th></th>\n      <th>GPA</th>\n      <th>Gender</th>\n      <th>breakfast</th>\n      <th>calories_chicken</th>\n      <th>calories_day</th>\n      <th>calories_scone</th>\n      <th>coffee</th>\n      <th>comfort_food</th>\n      <th>comfort_food_reasons</th>\n      <th>comfort_food_reasons_coded</th>\n      <th>...</th>\n      <th>soup</th>\n      <th>sports</th>\n      <th>thai_food</th>\n      <th>tortilla_calories</th>\n      <th>turkey_calories</th>\n      <th>type_sports</th>\n      <th>veggies_day</th>\n      <th>vitamins</th>\n      <th>waffle_calories</th>\n      <th>weight</th>\n    </tr>\n  </thead>\n  <tbody>\n    <tr>\n      <th>0</th>\n      <td>2.400</td>\n      <td>1.245400</td>\n      <td>-0.355142</td>\n      <td>-1.127263</td>\n      <td>-0.040954</td>\n      <td>-0.830800</td>\n      <td>-1.741338</td>\n      <td>1.330258</td>\n      <td>1.636966</td>\n      <td>3.486702e+00</td>\n      <td>...</td>\n      <td>-0.529712</td>\n      <td>-8.064778e-01</td>\n      <td>-1.632687</td>\n      <td>1.084565</td>\n      <td>-1.384030</td>\n      <td>0.051786</td>\n      <td>0.921074</td>\n      <td>-1.024295</td>\n      <td>0.975490</td>\n      <td>1.069675</td>\n    </tr>\n    <tr>\n      <th>1</th>\n      <td>3.654</td>\n      <td>-0.802955</td>\n      <td>-0.355142</td>\n      <td>0.250061</td>\n      <td>-0.040954</td>\n      <td>-0.372258</td>\n      <td>0.574271</td>\n      <td>0.581988</td>\n      <td>0.133343</td>\n      <td>-9.395305e-01</td>\n      <td>...</td>\n      <td>-0.529712</td>\n      <td>-8.064778e-01</td>\n      <td>-0.933763</td>\n      <td>-1.110311</td>\n      <td>0.889301</td>\n      <td>-1.913311</td>\n      <td>-0.007428</td>\n      <td>0.976281</td>\n      <td>-0.700124</td>\n      <td>-0.073140</td>\n    </tr>\n    <tr>\n      <th>2</th>\n      <td>3.300</td>\n      <td>-0.802955</td>\n      <td>-0.355142</td>\n      <td>1.091758</td>\n      <td>1.665461</td>\n      <td>-0.372258</td>\n      <td>0.574271</td>\n      <td>0.997693</td>\n      <td>1.508998</td>\n      <td>-9.395305e-01</td>\n      <td>...</td>\n      <td>-0.529712</td>\n      <td>1.260122e+00</td>\n      <td>1.163010</td>\n      <td>1.084565</td>\n      <td>-0.362679</td>\n      <td>0.629756</td>\n      <td>0.921074</td>\n      <td>-1.024295</td>\n      <td>-0.700124</td>\n      <td>-0.739782</td>\n    </tr>\n    <tr>\n      <th>3</th>\n      <td>3.200</td>\n      <td>-0.802955</td>\n      <td>-0.355142</td>\n      <td>-1.127263</td>\n      <td>-0.040954</td>\n      <td>-0.372258</td>\n      <td>0.574271</td>\n      <td>-0.083141</td>\n      <td>-1.530241</td>\n      <td>-3.862514e-01</td>\n      <td>...</td>\n      <td>-0.529712</td>\n      <td>1.260122e+00</td>\n      <td>1.163010</td>\n      <td>-1.110311</td>\n      <td>0.889301</td>\n      <td>0.629756</td>\n      <td>-0.935930</td>\n      <td>-1.024295</td>\n      <td>0.975490</td>\n      <td>1.831551</td>\n    </tr>\n    <tr>\n      <th>4</th>\n      <td>3.500</td>\n      <td>-0.802955</td>\n      <td>-0.355142</td>\n      <td>1.091758</td>\n      <td>-1.747369</td>\n      <td>-0.372258</td>\n      <td>0.574271</td>\n      <td>-0.775984</td>\n      <td>0.261311</td>\n      <td>-9.395305e-01</td>\n      <td>...</td>\n      <td>-0.529712</td>\n      <td>-8.064778e-01</td>\n      <td>0.464086</td>\n      <td>-0.037815</td>\n      <td>-0.362679</td>\n      <td>-0.641778</td>\n      <td>-0.007428</td>\n      <td>0.976281</td>\n      <td>-1.265391</td>\n      <td>1.164909</td>\n    </tr>\n    <tr>\n      <th>...</th>\n      <td>...</td>\n      <td>...</td>\n      <td>...</td>\n      <td>...</td>\n      <td>...</td>\n      <td>...</td>\n      <td>...</td>\n      <td>...</td>\n      <td>...</td>\n      <td>...</td>\n      <td>...</td>\n      <td>...</td>\n      <td>...</td>\n      <td>...</td>\n      <td>...</td>\n      <td>...</td>\n      <td>...</td>\n      <td>...</td>\n      <td>...</td>\n      <td>...</td>\n      <td>...</td>\n    </tr>\n    <tr>\n      <th>120</th>\n      <td>3.500</td>\n      <td>-0.802955</td>\n      <td>-0.355142</td>\n      <td>0.250061</td>\n      <td>1.665461</td>\n      <td>-0.372258</td>\n      <td>0.574271</td>\n      <td>1.690536</td>\n      <td>0.613222</td>\n      <td>2.457053e-16</td>\n      <td>...</td>\n      <td>-0.529712</td>\n      <td>-8.064778e-01</td>\n      <td>1.163010</td>\n      <td>-0.037815</td>\n      <td>-0.362679</td>\n      <td>-0.641778</td>\n      <td>0.921074</td>\n      <td>-1.024295</td>\n      <td>0.975490</td>\n      <td>0.022094</td>\n    </tr>\n    <tr>\n      <th>121</th>\n      <td>3.000</td>\n      <td>-0.802955</td>\n      <td>-0.355142</td>\n      <td>-2.389809</td>\n      <td>-1.747369</td>\n      <td>-0.830800</td>\n      <td>0.574271</td>\n      <td>-0.221710</td>\n      <td>-0.442513</td>\n      <td>2.457053e-16</td>\n      <td>...</td>\n      <td>-0.529712</td>\n      <td>4.588773e-16</td>\n      <td>0.464086</td>\n      <td>-0.037815</td>\n      <td>-0.362679</td>\n      <td>-0.006011</td>\n      <td>0.921074</td>\n      <td>0.976281</td>\n      <td>0.975490</td>\n      <td>0.783971</td>\n    </tr>\n    <tr>\n      <th>122</th>\n      <td>3.882</td>\n      <td>-0.802955</td>\n      <td>-0.355142</td>\n      <td>1.091758</td>\n      <td>-0.040954</td>\n      <td>-0.372258</td>\n      <td>-1.741338</td>\n      <td>1.607395</td>\n      <td>1.125094</td>\n      <td>2.457053e-16</td>\n      <td>...</td>\n      <td>-0.529712</td>\n      <td>1.260122e+00</td>\n      <td>1.163010</td>\n      <td>-1.833622</td>\n      <td>0.889301</td>\n      <td>0.629756</td>\n      <td>-0.007428</td>\n      <td>0.976281</td>\n      <td>0.975490</td>\n      <td>-1.406424</td>\n    </tr>\n    <tr>\n      <th>123</th>\n      <td>3.000</td>\n      <td>1.245400</td>\n      <td>-0.355142</td>\n      <td>1.091758</td>\n      <td>1.665461</td>\n      <td>-0.372258</td>\n      <td>-1.741338</td>\n      <td>-0.443419</td>\n      <td>0.997126</td>\n      <td>2.457053e-16</td>\n      <td>...</td>\n      <td>1.903041</td>\n      <td>1.260122e+00</td>\n      <td>-1.632687</td>\n      <td>-0.037815</td>\n      <td>-0.362679</td>\n      <td>0.629756</td>\n      <td>-0.935930</td>\n      <td>-1.024295</td>\n      <td>0.975490</td>\n      <td>-0.739782</td>\n    </tr>\n    <tr>\n      <th>124</th>\n      <td>3.900</td>\n      <td>-0.802955</td>\n      <td>-0.355142</td>\n      <td>-1.127263</td>\n      <td>-0.040954</td>\n      <td>-0.830800</td>\n      <td>0.574271</td>\n      <td>-1.053121</td>\n      <td>1.029118</td>\n      <td>2.457053e-16</td>\n      <td>...</td>\n      <td>-0.529712</td>\n      <td>1.260122e+00</td>\n      <td>-0.933763</td>\n      <td>-1.110311</td>\n      <td>-1.384030</td>\n      <td>0.629756</td>\n      <td>-0.007428</td>\n      <td>0.976281</td>\n      <td>-2.012352</td>\n      <td>-0.739782</td>\n    </tr>\n  </tbody>\n</table>\n<p>125 rows × 61 columns</p>\n</div>"
          },
          "metadata": {}
        }
      ]
    },
    {
      "cell_type": "code",
      "source": "dataset = data.dropna()",
      "metadata": {
        "trusted": true
      },
      "execution_count": 38,
      "outputs": []
    },
    {
      "cell_type": "code",
      "source": "x = dataset_scale.drop('GPA', axis = 1) \ny = dataset_scale['GPA']",
      "metadata": {
        "trusted": true
      },
      "execution_count": 39,
      "outputs": []
    },
    {
      "cell_type": "code",
      "source": "from sklearn.model_selection import train_test_split\n\nx_train, x_test, y_train, y_test = train_test_split(x,y, test_size=0.3)",
      "metadata": {
        "trusted": true
      },
      "execution_count": 40,
      "outputs": []
    },
    {
      "cell_type": "code",
      "source": "from sklearn.neighbors import KNeighborsRegressor\nfrom sklearn.metrics import mean_absolute_error\nk=5\nneigh = KNeighborsRegressor(n_neighbors=3)\nneigh.fit(x_train, y_train)\ny_pred = neigh.predict(x_test)",
      "metadata": {
        "trusted": true
      },
      "execution_count": 41,
      "outputs": []
    },
    {
      "cell_type": "code",
      "source": "from sklearn.metrics import mean_absolute_error\nrmse = mean_absolute_error(y_test, y_pred)\nprint(\"Root Mean Absolute Error:\", rmse)",
      "metadata": {
        "trusted": true
      },
      "execution_count": 46,
      "outputs": [
        {
          "name": "stdout",
          "text": "Root Mean Absolute Error: 0.35932456140350877\n",
          "output_type": "stream"
        }
      ]
    },
    {
      "cell_type": "code",
      "source": "",
      "metadata": {},
      "execution_count": null,
      "outputs": []
    }
  ]
}