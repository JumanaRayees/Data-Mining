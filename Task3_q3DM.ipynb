{
  "nbformat": 4,
  "nbformat_minor": 0,
  "metadata": {
    "colab": {
      "provenance": []
    },
    "kernelspec": {
      "name": "python3",
      "display_name": "Python 3"
    },
    "language_info": {
      "name": "python"
    }
  },
  "cells": [
    {
      "cell_type": "code",
      "execution_count": 36,
      "metadata": {
        "id": "DHnutCLRyBE3"
      },
      "outputs": [],
      "source": [
        "import pandas as pd \n",
        "import numpy as np \n",
        "from sklearn.svm import SVC\n",
        "from sklearn.feature_extraction.text import TfidfVectorizer"
      ]
    },
    {
      "cell_type": "code",
      "source": [
        "dataset = pd.read_csv(\"mtsamples-Text mining dataset.csv\")"
      ],
      "metadata": {
        "id": "BhuJTDBfEdm6"
      },
      "execution_count": 37,
      "outputs": []
    },
    {
      "cell_type": "code",
      "source": [
        "dataset.head(10)"
      ],
      "metadata": {
        "colab": {
          "base_uri": "https://localhost:8080/",
          "height": 363
        },
        "id": "CSauNzApEjnQ",
        "outputId": "949b6011-9685-4763-99f4-04b42591d1e7"
      },
      "execution_count": 38,
      "outputs": [
        {
          "output_type": "execute_result",
          "data": {
            "text/plain": [
              "             medical_specialty  \\\n",
              "0         Allergy / Immunology   \n",
              "1                   Bariatrics   \n",
              "2                   Bariatrics   \n",
              "3   Cardiovascular / Pulmonary   \n",
              "4   Cardiovascular / Pulmonary   \n",
              "5                   Bariatrics   \n",
              "6                   Bariatrics   \n",
              "7   Cardiovascular / Pulmonary   \n",
              "8                   Bariatrics   \n",
              "9   Cardiovascular / Pulmonary   \n",
              "\n",
              "                                       transcription  \n",
              "0  SUBJECTIVE:,  This 23-year-old white female pr...  \n",
              "1  PAST MEDICAL HISTORY:, He has difficulty climb...  \n",
              "2  HISTORY OF PRESENT ILLNESS: , I have seen ABC ...  \n",
              "3  2-D M-MODE: , ,1.  Left atrial enlargement wit...  \n",
              "4  1.  The left ventricular cavity size and wall ...  \n",
              "5  PREOPERATIVE DIAGNOSIS: , Morbid obesity.,POST...  \n",
              "6  PREOPERATIVE DIAGNOSES:,1.  Deformity, right b...  \n",
              "7  2-D ECHOCARDIOGRAM,Multiple views of the heart...  \n",
              "8  PREOPERATIVE DIAGNOSIS: , Lipodystrophy of the...  \n",
              "9  DESCRIPTION:,1.  Normal cardiac chambers size....  "
            ],
            "text/html": [
              "\n",
              "  <div id=\"df-cf442829-6be6-451e-8224-7ccfeacb8a95\">\n",
              "    <div class=\"colab-df-container\">\n",
              "      <div>\n",
              "<style scoped>\n",
              "    .dataframe tbody tr th:only-of-type {\n",
              "        vertical-align: middle;\n",
              "    }\n",
              "\n",
              "    .dataframe tbody tr th {\n",
              "        vertical-align: top;\n",
              "    }\n",
              "\n",
              "    .dataframe thead th {\n",
              "        text-align: right;\n",
              "    }\n",
              "</style>\n",
              "<table border=\"1\" class=\"dataframe\">\n",
              "  <thead>\n",
              "    <tr style=\"text-align: right;\">\n",
              "      <th></th>\n",
              "      <th>medical_specialty</th>\n",
              "      <th>transcription</th>\n",
              "    </tr>\n",
              "  </thead>\n",
              "  <tbody>\n",
              "    <tr>\n",
              "      <th>0</th>\n",
              "      <td>Allergy / Immunology</td>\n",
              "      <td>SUBJECTIVE:,  This 23-year-old white female pr...</td>\n",
              "    </tr>\n",
              "    <tr>\n",
              "      <th>1</th>\n",
              "      <td>Bariatrics</td>\n",
              "      <td>PAST MEDICAL HISTORY:, He has difficulty climb...</td>\n",
              "    </tr>\n",
              "    <tr>\n",
              "      <th>2</th>\n",
              "      <td>Bariatrics</td>\n",
              "      <td>HISTORY OF PRESENT ILLNESS: , I have seen ABC ...</td>\n",
              "    </tr>\n",
              "    <tr>\n",
              "      <th>3</th>\n",
              "      <td>Cardiovascular / Pulmonary</td>\n",
              "      <td>2-D M-MODE: , ,1.  Left atrial enlargement wit...</td>\n",
              "    </tr>\n",
              "    <tr>\n",
              "      <th>4</th>\n",
              "      <td>Cardiovascular / Pulmonary</td>\n",
              "      <td>1.  The left ventricular cavity size and wall ...</td>\n",
              "    </tr>\n",
              "    <tr>\n",
              "      <th>5</th>\n",
              "      <td>Bariatrics</td>\n",
              "      <td>PREOPERATIVE DIAGNOSIS: , Morbid obesity.,POST...</td>\n",
              "    </tr>\n",
              "    <tr>\n",
              "      <th>6</th>\n",
              "      <td>Bariatrics</td>\n",
              "      <td>PREOPERATIVE DIAGNOSES:,1.  Deformity, right b...</td>\n",
              "    </tr>\n",
              "    <tr>\n",
              "      <th>7</th>\n",
              "      <td>Cardiovascular / Pulmonary</td>\n",
              "      <td>2-D ECHOCARDIOGRAM,Multiple views of the heart...</td>\n",
              "    </tr>\n",
              "    <tr>\n",
              "      <th>8</th>\n",
              "      <td>Bariatrics</td>\n",
              "      <td>PREOPERATIVE DIAGNOSIS: , Lipodystrophy of the...</td>\n",
              "    </tr>\n",
              "    <tr>\n",
              "      <th>9</th>\n",
              "      <td>Cardiovascular / Pulmonary</td>\n",
              "      <td>DESCRIPTION:,1.  Normal cardiac chambers size....</td>\n",
              "    </tr>\n",
              "  </tbody>\n",
              "</table>\n",
              "</div>\n",
              "      <button class=\"colab-df-convert\" onclick=\"convertToInteractive('df-cf442829-6be6-451e-8224-7ccfeacb8a95')\"\n",
              "              title=\"Convert this dataframe to an interactive table.\"\n",
              "              style=\"display:none;\">\n",
              "        \n",
              "  <svg xmlns=\"http://www.w3.org/2000/svg\" height=\"24px\"viewBox=\"0 0 24 24\"\n",
              "       width=\"24px\">\n",
              "    <path d=\"M0 0h24v24H0V0z\" fill=\"none\"/>\n",
              "    <path d=\"M18.56 5.44l.94 2.06.94-2.06 2.06-.94-2.06-.94-.94-2.06-.94 2.06-2.06.94zm-11 1L8.5 8.5l.94-2.06 2.06-.94-2.06-.94L8.5 2.5l-.94 2.06-2.06.94zm10 10l.94 2.06.94-2.06 2.06-.94-2.06-.94-.94-2.06-.94 2.06-2.06.94z\"/><path d=\"M17.41 7.96l-1.37-1.37c-.4-.4-.92-.59-1.43-.59-.52 0-1.04.2-1.43.59L10.3 9.45l-7.72 7.72c-.78.78-.78 2.05 0 2.83L4 21.41c.39.39.9.59 1.41.59.51 0 1.02-.2 1.41-.59l7.78-7.78 2.81-2.81c.8-.78.8-2.07 0-2.86zM5.41 20L4 18.59l7.72-7.72 1.47 1.35L5.41 20z\"/>\n",
              "  </svg>\n",
              "      </button>\n",
              "      \n",
              "  <style>\n",
              "    .colab-df-container {\n",
              "      display:flex;\n",
              "      flex-wrap:wrap;\n",
              "      gap: 12px;\n",
              "    }\n",
              "\n",
              "    .colab-df-convert {\n",
              "      background-color: #E8F0FE;\n",
              "      border: none;\n",
              "      border-radius: 50%;\n",
              "      cursor: pointer;\n",
              "      display: none;\n",
              "      fill: #1967D2;\n",
              "      height: 32px;\n",
              "      padding: 0 0 0 0;\n",
              "      width: 32px;\n",
              "    }\n",
              "\n",
              "    .colab-df-convert:hover {\n",
              "      background-color: #E2EBFA;\n",
              "      box-shadow: 0px 1px 2px rgba(60, 64, 67, 0.3), 0px 1px 3px 1px rgba(60, 64, 67, 0.15);\n",
              "      fill: #174EA6;\n",
              "    }\n",
              "\n",
              "    [theme=dark] .colab-df-convert {\n",
              "      background-color: #3B4455;\n",
              "      fill: #D2E3FC;\n",
              "    }\n",
              "\n",
              "    [theme=dark] .colab-df-convert:hover {\n",
              "      background-color: #434B5C;\n",
              "      box-shadow: 0px 1px 3px 1px rgba(0, 0, 0, 0.15);\n",
              "      filter: drop-shadow(0px 1px 2px rgba(0, 0, 0, 0.3));\n",
              "      fill: #FFFFFF;\n",
              "    }\n",
              "  </style>\n",
              "\n",
              "      <script>\n",
              "        const buttonEl =\n",
              "          document.querySelector('#df-cf442829-6be6-451e-8224-7ccfeacb8a95 button.colab-df-convert');\n",
              "        buttonEl.style.display =\n",
              "          google.colab.kernel.accessAllowed ? 'block' : 'none';\n",
              "\n",
              "        async function convertToInteractive(key) {\n",
              "          const element = document.querySelector('#df-cf442829-6be6-451e-8224-7ccfeacb8a95');\n",
              "          const dataTable =\n",
              "            await google.colab.kernel.invokeFunction('convertToInteractive',\n",
              "                                                     [key], {});\n",
              "          if (!dataTable) return;\n",
              "\n",
              "          const docLinkHtml = 'Like what you see? Visit the ' +\n",
              "            '<a target=\"_blank\" href=https://colab.research.google.com/notebooks/data_table.ipynb>data table notebook</a>'\n",
              "            + ' to learn more about interactive tables.';\n",
              "          element.innerHTML = '';\n",
              "          dataTable['output_type'] = 'display_data';\n",
              "          await google.colab.output.renderOutput(dataTable, element);\n",
              "          const docLink = document.createElement('div');\n",
              "          docLink.innerHTML = docLinkHtml;\n",
              "          element.appendChild(docLink);\n",
              "        }\n",
              "      </script>\n",
              "    </div>\n",
              "  </div>\n",
              "  "
            ]
          },
          "metadata": {},
          "execution_count": 38
        }
      ]
    },
    {
      "cell_type": "code",
      "source": [
        "dataset.info()"
      ],
      "metadata": {
        "colab": {
          "base_uri": "https://localhost:8080/"
        },
        "id": "HPXfkFITEl9f",
        "outputId": "37b11d9c-0b59-4bde-ec6e-577bbd9e96ce"
      },
      "execution_count": 39,
      "outputs": [
        {
          "output_type": "stream",
          "name": "stdout",
          "text": [
            "<class 'pandas.core.frame.DataFrame'>\n",
            "RangeIndex: 4999 entries, 0 to 4998\n",
            "Data columns (total 2 columns):\n",
            " #   Column             Non-Null Count  Dtype \n",
            "---  ------             --------------  ----- \n",
            " 0   medical_specialty  4999 non-null   object\n",
            " 1   transcription      4966 non-null   object\n",
            "dtypes: object(2)\n",
            "memory usage: 78.2+ KB\n"
          ]
        }
      ]
    },
    {
      "cell_type": "code",
      "source": [
        "import pandas as pd\n",
        "import nltk\n",
        "from nltk.corpus import stopwords\n",
        "from nltk.stem import PorterStemmer\n",
        "from sklearn.feature_extraction.text import TfidfVectorizer\n",
        "from sklearn.model_selection import train_test_split\n",
        "from sklearn.svm import SVC\n",
        "\n",
        "# Download the stopwords\n",
        "nltk.download('stopwords')\n",
        "\n",
        "# Define the stop words and stemmer\n",
        "stop_words = set(stopwords.words('english'))\n",
        "stemmer = PorterStemmer()\n",
        "\n",
        "def preprocess(text):\n",
        "    if isinstance(text, str):  # Check if the text is a string\n",
        "        text = text.replace('[^\\w\\s]', '')\n",
        "        words = text.split()\n",
        "        words = [stemmer.stem(word) for word in words if word not in stop_words]\n",
        "        return ' '.join(words)\n",
        "    else:\n",
        "        return ''\n",
        "\n",
        "\n",
        "# Apply preprocessing to the dataset\n",
        "dataset['preprocessed_text'] = dataset['transcription'].apply(preprocess)\n",
        "\n",
        "# Split the preprocessed data into features and labels\n",
        "X = dataset['preprocessed_text']\n",
        "y = dataset['medical_specialty']"
      ],
      "metadata": {
        "colab": {
          "base_uri": "https://localhost:8080/"
        },
        "id": "c8xgyDl0Rvfs",
        "outputId": "573af529-5e30-4400-9217-cab6a624866c"
      },
      "execution_count": 44,
      "outputs": [
        {
          "output_type": "stream",
          "name": "stderr",
          "text": [
            "[nltk_data] Downloading package stopwords to /root/nltk_data...\n",
            "[nltk_data]   Package stopwords is already up-to-date!\n"
          ]
        }
      ]
    },
    {
      "cell_type": "code",
      "source": [
        "# Split the data into training and testing sets\n",
        "X_train, X_test, y_train, y_test = train_test_split(X, y, test_size=0.2, random_state=42)\n",
        "\n",
        "# Convert the text data into numerical features using TfidfVectorizer\n",
        "vectorizer = TfidfVectorizer()\n",
        "X_train_vectors = vectorizer.fit_transform(X_train)\n",
        "# Train a LinearSVC model on the training data\n",
        "clf = SVC()\n",
        "clf.fit(X_train_vectors, y_train)\n",
        "# Evaluate the model on the testing data\n",
        "X_test_vectors = vectorizer.transform(X_test)\n",
        "accuracy = clf.score(X_test_vectors, y_test)\n",
        "print(\"Accuracy:\", accuracy)"
      ],
      "metadata": {
        "colab": {
          "base_uri": "https://localhost:8080/"
        },
        "id": "XhylQiFFJ8aR",
        "outputId": "84cd3ae0-ef1a-4007-a8b5-419f83ffede7"
      },
      "execution_count": 46,
      "outputs": [
        {
          "output_type": "stream",
          "name": "stdout",
          "text": [
            "Accuracy: 0.134\n"
          ]
        }
      ]
    }
  ]
}